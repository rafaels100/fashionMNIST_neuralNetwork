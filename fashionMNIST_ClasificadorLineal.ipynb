{
  "nbformat": 4,
  "nbformat_minor": 0,
  "metadata": {
    "colab": {
      "provenance": [],
      "authorship_tag": "ABX9TyNhR01vkLqRdv4wjEiB/1my",
      "include_colab_link": true
    },
    "kernelspec": {
      "name": "python3",
      "display_name": "Python 3"
    },
    "language_info": {
      "name": "python"
    }
  },
  "cells": [
    {
      "cell_type": "markdown",
      "metadata": {
        "id": "view-in-github",
        "colab_type": "text"
      },
      "source": [
        "<a href=\"https://colab.research.google.com/github/rafaels100/fashionMNIST_neuralNetwork/blob/main/fashionMNIST_ClasificadorLineal.ipynb\" target=\"_parent\"><img src=\"https://colab.research.google.com/assets/colab-badge.svg\" alt=\"Open In Colab\"/></a>"
      ]
    },
    {
      "cell_type": "markdown",
      "source": [
        "#Clasificador lineal: Aplicación sobre set fashion-MNIST de imágenes de ropa"
      ],
      "metadata": {
        "id": "4rH3p_6e--a4"
      }
    },
    {
      "cell_type": "markdown",
      "source": [
        "Vamos a trabar sobre el set fashion-MNIST en la libreria keras, que consta de 70000 imágenes de 28x28 en escala de grises, divididas en 10 clases. Vamos a utilizar un clasificador lineal para que aprenda a clasificar imágenes que no ha visto en la categoría correspondiente. Se trata de un algoritmo de aprendizaje supervisado, pues tenemos tags para entrenar al modelo."
      ],
      "metadata": {
        "id": "v1QNZbQo_fyz"
      }
    },
    {
      "cell_type": "code",
      "source": [
        "#cargamos las librerias tipicas de python\n",
        "import numpy as np\n",
        "import matplotlib.pyplot as plt\n",
        "import seaborn as sb"
      ],
      "metadata": {
        "id": "PAWnibHGH4ix"
      },
      "execution_count": null,
      "outputs": []
    },
    {
      "cell_type": "markdown",
      "source": [
        "Cargamos el dataset"
      ],
      "metadata": {
        "id": "egghuTmgAZ0K"
      }
    },
    {
      "cell_type": "code",
      "execution_count": null,
      "metadata": {
        "colab": {
          "base_uri": "https://localhost:8080/"
        },
        "id": "SVnBOGMC-3Gz",
        "outputId": "433d1db4-276a-422c-aab9-5643b7c724b0"
      },
      "outputs": [
        {
          "output_type": "stream",
          "name": "stdout",
          "text": [
            "Downloading data from https://storage.googleapis.com/tensorflow/tf-keras-datasets/train-labels-idx1-ubyte.gz\n",
            "29515/29515 [==============================] - 0s 1us/step\n",
            "Downloading data from https://storage.googleapis.com/tensorflow/tf-keras-datasets/train-images-idx3-ubyte.gz\n",
            "26421880/26421880 [==============================] - 2s 0us/step\n",
            "Downloading data from https://storage.googleapis.com/tensorflow/tf-keras-datasets/t10k-labels-idx1-ubyte.gz\n",
            "5148/5148 [==============================] - 0s 0us/step\n",
            "Downloading data from https://storage.googleapis.com/tensorflow/tf-keras-datasets/t10k-images-idx3-ubyte.gz\n",
            "4422102/4422102 [==============================] - 1s 0us/step\n"
          ]
        }
      ],
      "source": [
        "from keras.datasets import mnist, fashion_mnist\n",
        "\n",
        "#divido al dataset en dos sets, uno de entrenamiento y otro de testeo.\n",
        "#Esto se hace automaticamente con el metodo load(), dejando 60000 imagenes para el entrenamiento y 10000 para el testeo, con sus\n",
        "#correspondientes tags en cada set.\n",
        "\n",
        "(X_train_raw, y_train), (X_test_raw, y_test) = fashion_mnist.load_data()\n",
        "\n",
        "#Ejemplo clarativo:\n",
        "#(a,b), (c,d) = (1,2), (3,4)\n",
        "#Esto le asigna a la variable a = 1, b = 2, c = 3, d = 4\n",
        "#Es decir, no definimos tuplas, sino que definimos 4 variables. Usamos las tuplas para ayudarnos en la sintaxis.\n",
        "\n",
        "#X_train_raw: Es una lista que contiene a la matrices de 28x28 que definen a las imagenes. Son 60000 imagenes en esta lista.\n",
        "#y_train:     Es una lista que contiene a los tags de clase de ropa correspondientes a cada una de las imagenes en el set de entrenamiento.\n",
        "#X_test_raw: Es una lista que contiene a la matrices de 28x28 que definen a las imagenes. Son 10000 imagenes en esta lista.\n",
        "#y_test:     Es una lista que contiene a los tags de clase de ropa correspondientes a cada una de las imagenes en el set de testeo."
      ]
    },
    {
      "cell_type": "code",
      "source": [
        "#Explorando la data:\n",
        "print(X_train_raw.shape)\n",
        "print(y_train.shape)\n",
        "print(y_train[0])\n",
        "print(X_test_raw.shape)\n",
        "print(y_test.shape)\n",
        "print(y_test[0])"
      ],
      "metadata": {
        "colab": {
          "base_uri": "https://localhost:8080/"
        },
        "id": "SaUug7abDaki",
        "outputId": "9a67c3cc-f54d-4675-8245-06b6b885eb1f"
      },
      "execution_count": null,
      "outputs": [
        {
          "output_type": "stream",
          "name": "stdout",
          "text": [
            "(60000, 28, 28)\n",
            "(60000,)\n",
            "9\n",
            "(10000, 28, 28)\n",
            "(10000,)\n",
            "9\n"
          ]
        }
      ]
    },
    {
      "cell_type": "markdown",
      "source": [
        "Vemos que efectivamente el X_train_raw contiene a las 60000 matrices de 28x28 que corresponden a las imagenes del set de entrenamiento, e y_train contiene los tags asociados a cada imagen, que van de 0 a 9 (10 clases de ropa).\n",
        "Lo mismo con el set de testeo."
      ],
      "metadata": {
        "id": "sp1WGXKcHBY2"
      }
    },
    {
      "cell_type": "markdown",
      "source": [
        "Veamos ahora alguna de las imágenes en el set de entrenamiento, y asignémosle su correspondiente categoría de ropa:"
      ],
      "metadata": {
        "id": "N8GvC7OcHawf"
      }
    },
    {
      "cell_type": "code",
      "source": [
        "\n",
        "#defino una lista donde cada elemento es una de las clases en las que se clasifican las imagenes\n",
        "categories = [\"T-shirt/top\", \"Trouser\", \"Pullover\", \"Dress\", \"Coat\", \"Sandal\", \"Shirt\", \"Sneaker\", \"Bag\", \"Ankle boot\"]\n",
        "\n",
        "#ploteo las imagenes con su categoria\n",
        "from mpl_toolkits.axes_grid1 import ImageGrid\n",
        "\n",
        "fig = plt.figure(figsize=(8,8))\n",
        "#creo una grid 5x5 donde colocare las 25 imagenes\n",
        "grid = ImageGrid(fig, 111,          #similar a fig(111)\n",
        "                 nrows_ncols=(5,5), #cantidad de filas y cols\n",
        "                 axes_pad=0.3,)      #distancia entre los axes, en pulgadas\n",
        "\n",
        "#ploteo las primeras 25 imagenes del dataset\n",
        "#Para ello, uno a cada imagen con su correspondiente celda en la grid,\n",
        "#usando zip, y luego uso enumerate para asignar un indice a cada celda.\n",
        "#Con ax me refiero al axis, la celda, y con im, a la imagen.\n",
        "for i, (ax, im) in enumerate(zip(grid, X_train_raw[:25])):\n",
        "  #ploteo la imagen en la celda\n",
        "  ax.imshow(im)\n",
        "  #le asigno a cada imagen su categoria correspondiente, ya que los tags\n",
        "  #estan dados en y_train, y estan ordenados acorde a las imagenes.\n",
        "  #Usando la lista categories paso de los numeros de las categorias a los nombres\n",
        "  ax.set_title(categories[y_train[i]])\n",
        "  #quito los ticks de los ejes x e y\n",
        "  ax.set_xticks([])\n",
        "  ax.set_yticks([])\n",
        "\n",
        "plt.show()\n"
      ],
      "metadata": {
        "colab": {
          "base_uri": "https://localhost:8080/",
          "height": 675
        },
        "id": "lAchIslZGgZU",
        "outputId": "65c2129b-36d5-4f23-f589-fa88dd783a93"
      },
      "execution_count": null,
      "outputs": [
        {
          "output_type": "display_data",
          "data": {
            "text/plain": [
              "<Figure size 800x800 with 50 Axes>"
            ],
            "image/png": "[encoded data removed]"
          },
          "metadata": {}
        }
      ]
    },
    {
      "cell_type": "markdown",
      "source": [
        "#Reshapeando las imagenes\n",
        "Vamos a explorar el darle otras formas a la matriz de 28x28 que representa una imagen. Tenemos 28x28 = 784 elementos que podemos moldear a voluntad. Por ejemplo, podria obtener, de estos elementos, una lista de dos matrices de 28x14 cada una, pues 2x28x14 = 784."
      ],
      "metadata": {
        "id": "ctd9jTVcM3f6"
      }
    },
    {
      "cell_type": "code",
      "source": [
        "#Elijo una imagen, la primera, por ejemplo, para explorar el reshape\n",
        "im = X_train_raw[0]\n",
        "#puedo estirarla en un vector de 784 elementos\n",
        "x = im.reshape(784)\n",
        "#otra forma de hacerlo es dejando a numpy que realice ese pequeño calculo de 28x28 = 784 por nosotros: usando -1 numpy\n",
        "#calcula automaticamente la cantidad de items que tenemos para reordenar, y la utiliza para el reshape\n",
        "x_1 = im.reshape(-1)\n",
        "print(x)\n",
        "print(x_1)"
      ],
      "metadata": {
        "colab": {
          "base_uri": "https://localhost:8080/"
        },
        "id": "2qUWzLTwEdS5",
        "outputId": "379156bc-22b1-4735-d996-67b5a261bc85"
      },
      "execution_count": null,
      "outputs": [
        {
          "output_type": "stream",
          "name": "stdout",
          "text": [
            "[  0   0   0   0   0   0   0   0   0   0   0   0   0   0   0   0   0   0\n",
            "   0   0   0   0   0   0   0   0   0   0   0   0   0   0   0   0   0   0\n",
            "   0   0   0   0   0   0   0   0   0   0   0   0   0   0   0   0   0   0\n",
            "   0   0   0   0   0   0   0   0   0   0   0   0   0   0   0   0   0   0\n",
            "   0   0   0   0   0   0   0   0   0   0   0   0   0   0   0   0   0   0\n",
            "   0   0   0   0   0   0   1   0   0  13  73   0   0   1   4   0   0   0\n",
            "   0   1   1   0   0   0   0   0   0   0   0   0   0   0   0   0   3   0\n",
            "  36 136 127  62  54   0   0   0   1   3   4   0   0   3   0   0   0   0\n",
            "   0   0   0   0   0   0   0   0   6   0 102 204 176 134 144 123  23   0\n",
            "   0   0   0  12  10   0   0   0   0   0   0   0   0   0   0   0   0   0\n",
            "   0   0 155 236 207 178 107 156 161 109  64  23  77 130  72  15   0   0\n",
            "   0   0   0   0   0   0   0   0   0   1   0  69 207 223 218 216 216 163\n",
            " 127 121 122 146 141  88 172  66   0   0   0   0   0   0   0   0   0   1\n",
            "   1   1   0 200 232 232 233 229 223 223 215 213 164 127 123 196 229   0\n",
            "   0   0   0   0   0   0   0   0   0   0   0   0   0 183 225 216 223 228\n",
            " 235 227 224 222 224 221 223 245 173   0   0   0   0   0   0   0   0   0\n",
            "   0   0   0   0   0 193 228 218 213 198 180 212 210 211 213 223 220 243\n",
            " 202   0   0   0   0   0   0   0   0   0   0   1   3   0  12 219 220 212\n",
            " 218 192 169 227 208 218 224 212 226 197 209  52   0   0   0   0   0   0\n",
            "   0   0   0   0   6   0  99 244 222 220 218 203 198 221 215 213 222 220\n",
            " 245 119 167  56   0   0   0   0   0   0   0   0   0   4   0   0  55 236\n",
            " 228 230 228 240 232 213 218 223 234 217 217 209  92   0   0   0   1   4\n",
            "   6   7   2   0   0   0   0   0 237 226 217 223 222 219 222 221 216 223\n",
            " 229 215 218 255  77   0   0   3   0   0   0   0   0   0   0  62 145 204\n",
            " 228 207 213 221 218 208 211 218 224 223 219 215 224 244 159   0   0   0\n",
            "   0   0  18  44  82 107 189 228 220 222 217 226 200 205 211 230 224 234\n",
            " 176 188 250 248 233 238 215   0   0  57 187 208 224 221 224 208 204 214\n",
            " 208 209 200 159 245 193 206 223 255 255 221 234 221 211 220 232 246   0\n",
            "   3 202 228 224 221 211 211 214 205 205 205 220 240  80 150 255 229 221\n",
            " 188 154 191 210 204 209 222 228 225   0  98 233 198 210 222 229 229 234\n",
            " 249 220 194 215 217 241  65  73 106 117 168 219 221 215 217 223 223 224\n",
            " 229  29  75 204 212 204 193 205 211 225 216 185 197 206 198 213 240 195\n",
            " 227 245 239 223 218 212 209 222 220 221 230  67  48 203 183 194 213 197\n",
            " 185 190 194 192 202 214 219 221 220 236 225 216 199 206 186 181 177 172\n",
            " 181 205 206 115   0 122 219 193 179 171 183 196 204 210 213 207 211 210\n",
            " 200 196 194 191 195 191 198 192 176 156 167 177 210  92   0   0  74 189\n",
            " 212 191 175 172 175 181 185 188 189 188 193 198 204 209 210 210 211 188\n",
            " 188 194 192 216 170   0   2   0   0   0  66 200 222 237 239 242 246 243\n",
            " 244 221 220 193 191 179 182 182 181 176 166 168  99  58   0   0   0   0\n",
            "   0   0   0   0   0  40  61  44  72  41  35   0   0   0   0   0   0   0\n",
            "   0   0   0   0   0   0   0   0   0   0   0   0   0   0   0   0   0   0\n",
            "   0   0   0   0   0   0   0   0   0   0   0   0   0   0   0   0   0   0\n",
            "   0   0   0   0   0   0   0   0   0   0   0   0   0   0   0   0   0   0\n",
            "   0   0   0   0   0   0   0   0   0   0]\n",
            "[  0   0   0   0   0   0   0   0   0   0   0   0   0   0   0   0   0   0\n",
            "   0   0   0   0   0   0   0   0   0   0   0   0   0   0   0   0   0   0\n",
            "   0   0   0   0   0   0   0   0   0   0   0   0   0   0   0   0   0   0\n",
            "   0   0   0   0   0   0   0   0   0   0   0   0   0   0   0   0   0   0\n",
            "   0   0   0   0   0   0   0   0   0   0   0   0   0   0   0   0   0   0\n",
            "   0   0   0   0   0   0   1   0   0  13  73   0   0   1   4   0   0   0\n",
            "   0   1   1   0   0   0   0   0   0   0   0   0   0   0   0   0   3   0\n",
            "  36 136 127  62  54   0   0   0   1   3   4   0   0   3   0   0   0   0\n",
            "   0   0   0   0   0   0   0   0   6   0 102 204 176 134 144 123  23   0\n",
            "   0   0   0  12  10   0   0   0   0   0   0   0   0   0   0   0   0   0\n",
            "   0   0 155 236 207 178 107 156 161 109  64  23  77 130  72  15   0   0\n",
            "   0   0   0   0   0   0   0   0   0   1   0  69 207 223 218 216 216 163\n",
            " 127 121 122 146 141  88 172  66   0   0   0   0   0   0   0   0   0   1\n",
            "   1   1   0 200 232 232 233 229 223 223 215 213 164 127 123 196 229   0\n",
            "   0   0   0   0   0   0   0   0   0   0   0   0   0 183 225 216 223 228\n",
            " 235 227 224 222 224 221 223 245 173   0   0   0   0   0   0   0   0   0\n",
            "   0   0   0   0   0 193 228 218 213 198 180 212 210 211 213 223 220 243\n",
            " 202   0   0   0   0   0   0   0   0   0   0   1   3   0  12 219 220 212\n",
            " 218 192 169 227 208 218 224 212 226 197 209  52   0   0   0   0   0   0\n",
            "   0   0   0   0   6   0  99 244 222 220 218 203 198 221 215 213 222 220\n",
            " 245 119 167  56   0   0   0   0   0   0   0   0   0   4   0   0  55 236\n",
            " 228 230 228 240 232 213 218 223 234 217 217 209  92   0   0   0   1   4\n",
            "   6   7   2   0   0   0   0   0 237 226 217 223 222 219 222 221 216 223\n",
            " 229 215 218 255  77   0   0   3   0   0   0   0   0   0   0  62 145 204\n",
            " 228 207 213 221 218 208 211 218 224 223 219 215 224 244 159   0   0   0\n",
            "   0   0  18  44  82 107 189 228 220 222 217 226 200 205 211 230 224 234\n",
            " 176 188 250 248 233 238 215   0   0  57 187 208 224 221 224 208 204 214\n",
            " 208 209 200 159 245 193 206 223 255 255 221 234 221 211 220 232 246   0\n",
            "   3 202 228 224 221 211 211 214 205 205 205 220 240  80 150 255 229 221\n",
            " 188 154 191 210 204 209 222 228 225   0  98 233 198 210 222 229 229 234\n",
            " 249 220 194 215 217 241  65  73 106 117 168 219 221 215 217 223 223 224\n",
            " 229  29  75 204 212 204 193 205 211 225 216 185 197 206 198 213 240 195\n",
            " 227 245 239 223 218 212 209 222 220 221 230  67  48 203 183 194 213 197\n",
            " 185 190 194 192 202 214 219 221 220 236 225 216 199 206 186 181 177 172\n",
            " 181 205 206 115   0 122 219 193 179 171 183 196 204 210 213 207 211 210\n",
            " 200 196 194 191 195 191 198 192 176 156 167 177 210  92   0   0  74 189\n",
            " 212 191 175 172 175 181 185 188 189 188 193 198 204 209 210 210 211 188\n",
            " 188 194 192 216 170   0   2   0   0   0  66 200 222 237 239 242 246 243\n",
            " 244 221 220 193 191 179 182 182 181 176 166 168  99  58   0   0   0   0\n",
            "   0   0   0   0   0  40  61  44  72  41  35   0   0   0   0   0   0   0\n",
            "   0   0   0   0   0   0   0   0   0   0   0   0   0   0   0   0   0   0\n",
            "   0   0   0   0   0   0   0   0   0   0   0   0   0   0   0   0   0   0\n",
            "   0   0   0   0   0   0   0   0   0   0   0   0   0   0   0   0   0   0\n",
            "   0   0   0   0   0   0   0   0   0   0]\n"
          ]
        }
      ]
    },
    {
      "cell_type": "code",
      "source": [
        "#explorando un poco mas con el reshape, podriamos ordenar los 784 elementos en una lista\n",
        "#de matrices, de 784 / 2 = 392 items.\n",
        "d = im.reshape(2, 392)\n",
        "print(d)\n",
        "print(d.shape)"
      ],
      "metadata": {
        "colab": {
          "base_uri": "https://localhost:8080/"
        },
        "id": "XggGdUZFFDEF",
        "outputId": "3ebbefd1-635b-4592-d7f8-735f3ddcb0da"
      },
      "execution_count": null,
      "outputs": [
        {
          "output_type": "stream",
          "name": "stdout",
          "text": [
            "[[  0   0   0   0   0   0   0   0   0   0   0   0   0   0   0   0   0   0\n",
            "    0   0   0   0   0   0   0   0   0   0   0   0   0   0   0   0   0   0\n",
            "    0   0   0   0   0   0   0   0   0   0   0   0   0   0   0   0   0   0\n",
            "    0   0   0   0   0   0   0   0   0   0   0   0   0   0   0   0   0   0\n",
            "    0   0   0   0   0   0   0   0   0   0   0   0   0   0   0   0   0   0\n",
            "    0   0   0   0   0   0   1   0   0  13  73   0   0   1   4   0   0   0\n",
            "    0   1   1   0   0   0   0   0   0   0   0   0   0   0   0   0   3   0\n",
            "   36 136 127  62  54   0   0   0   1   3   4   0   0   3   0   0   0   0\n",
            "    0   0   0   0   0   0   0   0   6   0 102 204 176 134 144 123  23   0\n",
            "    0   0   0  12  10   0   0   0   0   0   0   0   0   0   0   0   0   0\n",
            "    0   0 155 236 207 178 107 156 161 109  64  23  77 130  72  15   0   0\n",
            "    0   0   0   0   0   0   0   0   0   1   0  69 207 223 218 216 216 163\n",
            "  127 121 122 146 141  88 172  66   0   0   0   0   0   0   0   0   0   1\n",
            "    1   1   0 200 232 232 233 229 223 223 215 213 164 127 123 196 229   0\n",
            "    0   0   0   0   0   0   0   0   0   0   0   0   0 183 225 216 223 228\n",
            "  235 227 224 222 224 221 223 245 173   0   0   0   0   0   0   0   0   0\n",
            "    0   0   0   0   0 193 228 218 213 198 180 212 210 211 213 223 220 243\n",
            "  202   0   0   0   0   0   0   0   0   0   0   1   3   0  12 219 220 212\n",
            "  218 192 169 227 208 218 224 212 226 197 209  52   0   0   0   0   0   0\n",
            "    0   0   0   0   6   0  99 244 222 220 218 203 198 221 215 213 222 220\n",
            "  245 119 167  56   0   0   0   0   0   0   0   0   0   4   0   0  55 236\n",
            "  228 230 228 240 232 213 218 223 234 217 217 209  92   0]\n",
            " [  0   0   1   4   6   7   2   0   0   0   0   0 237 226 217 223 222 219\n",
            "  222 221 216 223 229 215 218 255  77   0   0   3   0   0   0   0   0   0\n",
            "    0  62 145 204 228 207 213 221 218 208 211 218 224 223 219 215 224 244\n",
            "  159   0   0   0   0   0  18  44  82 107 189 228 220 222 217 226 200 205\n",
            "  211 230 224 234 176 188 250 248 233 238 215   0   0  57 187 208 224 221\n",
            "  224 208 204 214 208 209 200 159 245 193 206 223 255 255 221 234 221 211\n",
            "  220 232 246   0   3 202 228 224 221 211 211 214 205 205 205 220 240  80\n",
            "  150 255 229 221 188 154 191 210 204 209 222 228 225   0  98 233 198 210\n",
            "  222 229 229 234 249 220 194 215 217 241  65  73 106 117 168 219 221 215\n",
            "  217 223 223 224 229  29  75 204 212 204 193 205 211 225 216 185 197 206\n",
            "  198 213 240 195 227 245 239 223 218 212 209 222 220 221 230  67  48 203\n",
            "  183 194 213 197 185 190 194 192 202 214 219 221 220 236 225 216 199 206\n",
            "  186 181 177 172 181 205 206 115   0 122 219 193 179 171 183 196 204 210\n",
            "  213 207 211 210 200 196 194 191 195 191 198 192 176 156 167 177 210  92\n",
            "    0   0  74 189 212 191 175 172 175 181 185 188 189 188 193 198 204 209\n",
            "  210 210 211 188 188 194 192 216 170   0   2   0   0   0  66 200 222 237\n",
            "  239 242 246 243 244 221 220 193 191 179 182 182 181 176 166 168  99  58\n",
            "    0   0   0   0   0   0   0   0   0  40  61  44  72  41  35   0   0   0\n",
            "    0   0   0   0   0   0   0   0   0   0   0   0   0   0   0   0   0   0\n",
            "    0   0   0   0   0   0   0   0   0   0   0   0   0   0   0   0   0   0\n",
            "    0   0   0   0   0   0   0   0   0   0   0   0   0   0   0   0   0   0\n",
            "    0   0   0   0   0   0   0   0   0   0   0   0   0   0]]\n",
            "(2, 392)\n"
          ]
        }
      ]
    },
    {
      "cell_type": "code",
      "source": [
        "#Podemos tomar los elementos que acabamos de splitear y generar una matriz\n",
        "#de 28x14 = 392, por ejemplo, para que pueda ser ploteada como imagen\n",
        "fig, ax = plt.subplots(nrows=1, ncols=1, figsize=(8,8))\n",
        "#tomo el primer elemento de 392 items y lo reshapeo a una matriz de 28x14\n",
        "e = d[0].reshape(28,14)\n",
        "#ax.imshow(e)\n",
        "#plt.show()\n",
        "#print(e)\n",
        "#print(e.shape)\n",
        "\n",
        "#podria haber spliteado la imagen en otras dos imagenes de la siguiente manera,\n",
        "#de manera mas directa\n",
        "f = im.reshape(2,28,14)\n",
        "#print(f)\n",
        "#veo la forma de las imagenes\n",
        "#ax.imshow(f[0])\n",
        "#ax.imshow(f[1])\n",
        "#plt.show()\n",
        "\n",
        "#tambien podria haber cortado a la imagen original de 28x28 en 4 partes, cada\n",
        "#una de 14x14, pues 4x14x14 = 784, la cantidad de elementos originales:\n",
        "g = im.reshape(4, 14, 14)\n",
        "#veo la forma de cada una de estas imagenes\n",
        "ax.imshow(g[0])\n",
        "#ax.imshow(g[1])\n",
        "#ax.imshow(g[2])\n",
        "#ax.imshow(g[3])\n",
        "plt.show()"
      ],
      "metadata": {
        "colab": {
          "base_uri": "https://localhost:8080/",
          "height": 676
        },
        "id": "X4MilkPIH0Hs",
        "outputId": "3bda4380-7667-4c2c-ce56-6a5662a5b434"
      },
      "execution_count": null,
      "outputs": [
        {
          "output_type": "display_data",
          "data": {
            "text/plain": [
              "<Figure size 800x800 with 1 Axes>"
            ],
            "image/png": "[encoded data removed]"
          },
          "metadata": {}
        }
      ]
    },
    {
      "cell_type": "markdown",
      "source": [
        "#Ploteo de histograma\n",
        "Tomamos una foto cualquiera del dataset y ploteamos un histograma, para ver como los valores de los pixeles estan distribuidos en la imagen.\n",
        "Para ello es necesario 'desenrollar' la matriz de valores en una lista. Sabemos que tenemos 28x28 = 784 items que podemos reordenar a voluntad. En este caso, si solo pasamos 784, obtendremos una lista de ese largo"
      ],
      "metadata": {
        "id": "mTGUm8j9P1BV"
      }
    },
    {
      "cell_type": "code",
      "source": [
        "#Elijo una imagen, la primera, por ejemplo, para explorar el reshape\n",
        "im = X_train_raw[0]\n",
        "#puedo estirarla en un vector de 784 elementos, calculado por numpy al usar el -1\n",
        "x = im.reshape(-1)\n",
        "plt.hist(x)\n",
        "print(x, x.shape)\n",
        "plt.show()"
      ],
      "metadata": {
        "id": "4xxLd7K5MsIi",
        "colab": {
          "base_uri": "https://localhost:8080/",
          "height": 1000
        },
        "outputId": "18419204-2ec9-47db-d311-b080b2a911f1"
      },
      "execution_count": null,
      "outputs": [
        {
          "output_type": "stream",
          "name": "stdout",
          "text": [
            "[  0   0   0   0   0   0   0   0   0   0   0   0   0   0   0   0   0   0\n",
            "   0   0   0   0   0   0   0   0   0   0   0   0   0   0   0   0   0   0\n",
            "   0   0   0   0   0   0   0   0   0   0   0   0   0   0   0   0   0   0\n",
            "   0   0   0   0   0   0   0   0   0   0   0   0   0   0   0   0   0   0\n",
            "   0   0   0   0   0   0   0   0   0   0   0   0   0   0   0   0   0   0\n",
            "   0   0   0   0   0   0   1   0   0  13  73   0   0   1   4   0   0   0\n",
            "   0   1   1   0   0   0   0   0   0   0   0   0   0   0   0   0   3   0\n",
            "  36 136 127  62  54   0   0   0   1   3   4   0   0   3   0   0   0   0\n",
            "   0   0   0   0   0   0   0   0   6   0 102 204 176 134 144 123  23   0\n",
            "   0   0   0  12  10   0   0   0   0   0   0   0   0   0   0   0   0   0\n",
            "   0   0 155 236 207 178 107 156 161 109  64  23  77 130  72  15   0   0\n",
            "   0   0   0   0   0   0   0   0   0   1   0  69 207 223 218 216 216 163\n",
            " 127 121 122 146 141  88 172  66   0   0   0   0   0   0   0   0   0   1\n",
            "   1   1   0 200 232 232 233 229 223 223 215 213 164 127 123 196 229   0\n",
            "   0   0   0   0   0   0   0   0   0   0   0   0   0 183 225 216 223 228\n",
            " 235 227 224 222 224 221 223 245 173   0   0   0   0   0   0   0   0   0\n",
            "   0   0   0   0   0 193 228 218 213 198 180 212 210 211 213 223 220 243\n",
            " 202   0   0   0   0   0   0   0   0   0   0   1   3   0  12 219 220 212\n",
            " 218 192 169 227 208 218 224 212 226 197 209  52   0   0   0   0   0   0\n",
            "   0   0   0   0   6   0  99 244 222 220 218 203 198 221 215 213 222 220\n",
            " 245 119 167  56   0   0   0   0   0   0   0   0   0   4   0   0  55 236\n",
            " 228 230 228 240 232 213 218 223 234 217 217 209  92   0   0   0   1   4\n",
            "   6   7   2   0   0   0   0   0 237 226 217 223 222 219 222 221 216 223\n",
            " 229 215 218 255  77   0   0   3   0   0   0   0   0   0   0  62 145 204\n",
            " 228 207 213 221 218 208 211 218 224 223 219 215 224 244 159   0   0   0\n",
            "   0   0  18  44  82 107 189 228 220 222 217 226 200 205 211 230 224 234\n",
            " 176 188 250 248 233 238 215   0   0  57 187 208 224 221 224 208 204 214\n",
            " 208 209 200 159 245 193 206 223 255 255 221 234 221 211 220 232 246   0\n",
            "   3 202 228 224 221 211 211 214 205 205 205 220 240  80 150 255 229 221\n",
            " 188 154 191 210 204 209 222 228 225   0  98 233 198 210 222 229 229 234\n",
            " 249 220 194 215 217 241  65  73 106 117 168 219 221 215 217 223 223 224\n",
            " 229  29  75 204 212 204 193 205 211 225 216 185 197 206 198 213 240 195\n",
            " 227 245 239 223 218 212 209 222 220 221 230  67  48 203 183 194 213 197\n",
            " 185 190 194 192 202 214 219 221 220 236 225 216 199 206 186 181 177 172\n",
            " 181 205 206 115   0 122 219 193 179 171 183 196 204 210 213 207 211 210\n",
            " 200 196 194 191 195 191 198 192 176 156 167 177 210  92   0   0  74 189\n",
            " 212 191 175 172 175 181 185 188 189 188 193 198 204 209 210 210 211 188\n",
            " 188 194 192 216 170   0   2   0   0   0  66 200 222 237 239 242 246 243\n",
            " 244 221 220 193 191 179 182 182 181 176 166 168  99  58   0   0   0   0\n",
            "   0   0   0   0   0  40  61  44  72  41  35   0   0   0   0   0   0   0\n",
            "   0   0   0   0   0   0   0   0   0   0   0   0   0   0   0   0   0   0\n",
            "   0   0   0   0   0   0   0   0   0   0   0   0   0   0   0   0   0   0\n",
            "   0   0   0   0   0   0   0   0   0   0   0   0   0   0   0   0   0   0\n",
            "   0   0   0   0   0   0   0   0   0   0] (784,)\n"
          ]
        },
        {
          "output_type": "display_data",
          "data": {
            "text/plain": [
              "<Figure size 640x480 with 1 Axes>"
            ],
            "image/png": "[encoded data removed]"
          },
          "metadata": {}
        }
      ]
    },
    {
      "cell_type": "markdown",
      "source": [
        "#Preparamos los datos para entrenar el modelo\n",
        "Debemos usar nuestros poderes de reshape para pasarle al predictor de numpy cosas que pueda entender. Tenemos 60000 imagenes de 28x28, es decir, tenemos 60000x28x28 = 47040000 items que podemos reshapear a voluntad.\n",
        "En este caso, vamos a querer convertir las 60000 matrices de 28x28 en vectores de largo 28x28 = 784, para poder entrenar el modelo."
      ],
      "metadata": {
        "id": "8GvuD4hV3cJV"
      }
    },
    {
      "cell_type": "code",
      "source": [
        "X_train = X_train_raw.reshape(60000, 784)\n",
        "print(X_train.shape)\n",
        "#otra forma de hacerlo es dejar que numpy calcule el 784\n",
        "#X_train = X_train_raw.reshape(60000, -1)\n",
        "#print(X_train.shape)\n",
        "\n",
        "#y hacemos lo propio con las 10000 imagenes del testing dataset\n",
        "X_test = X_test_raw.reshape(10000, 784)"
      ],
      "metadata": {
        "colab": {
          "base_uri": "https://localhost:8080/"
        },
        "id": "KKLRw5ow4E3p",
        "outputId": "9bbda230-3661-4ac9-85c4-fc5c2fe099e9"
      },
      "execution_count": null,
      "outputs": [
        {
          "output_type": "stream",
          "name": "stdout",
          "text": [
            "(60000, 784)\n"
          ]
        }
      ]
    },
    {
      "cell_type": "markdown",
      "source": [
        "#OneHot enconding de los tags\n",
        "Como tenemos categorias del estilo 0,1,2,3,...,9, referentes a las 10 clases de ropa, no podemos entrenar nada con eso... necesitamos darle a numpy un vector que indique cuando es 0, cuando 1, cuando 2, etc, pero de manera binaria, con 0s y 1s. Para ello creamos una columna para cada categoria, y cuando la imagen es una de esas categorias, ponemos un 1 en esa columna, y el resto todos 0s."
      ],
      "metadata": {
        "id": "fi2hj5rm9D5q"
      }
    },
    {
      "cell_type": "code",
      "source": [
        "print(y_train)\n",
        "#debemos convertirla en una matriz de 0s y 1s."
      ],
      "metadata": {
        "colab": {
          "base_uri": "https://localhost:8080/"
        },
        "id": "L_hrub3w9oIS",
        "outputId": "247b44a7-3032-4be9-be9d-b0c2e944bbf9"
      },
      "execution_count": null,
      "outputs": [
        {
          "output_type": "stream",
          "name": "stdout",
          "text": [
            "[9 0 0 ... 3 0 5]\n"
          ]
        }
      ]
    },
    {
      "cell_type": "code",
      "source": [
        "from sklearn.preprocessing import OneHotEncoder\n",
        "\n",
        "encoder = OneHotEncoder(sparse=False) #no queremos una matriz esparsa... but i dont know how itll achieve that\n",
        "#el encoder no acepta vectores, sino matrices, y los tags estan como vectores. Debemos reshapear todo para que sea una matriz de 60000 filas y una columna\n",
        "y_train_cols = y_train.reshape(60000, 1)\n",
        "#entreno el encoder\n",
        "encoder.fit(y_train_cols)\n",
        "#a partir de este encoder entrenado puedo obtener la matriz binaria que busco. Primero veamos las columnas que creo\n",
        "print(\"Columnas del OneHotEncoder:\", encoder.categories_)\n",
        "#ahora si, obtenemos la matriz buscada, transformando los datos con los que entrenamos al encoder\n",
        "Y_train = encoder.transform(y_train_cols)\n",
        "print(Y_train)\n",
        "#La idea de entrenar a un encoder es poder darle no solo los datos que utilizamos para entrenarlo para que los transforme,\n",
        "#sino darle otros datos que tienen el mismo formato, pero que todavia no vio, y que los pueda transformar tambien.\n",
        "\n",
        "#hacemos lo mismo con la dataset de testing. Este tiene 10000 ejemplos, que debo poner como matriz de una columna\n",
        "y_test_cols = y_test.reshape(10000, 1)\n",
        "#transformo\n",
        "Y_test = encoder.transform(y_test_cols)"
      ],
      "metadata": {
        "colab": {
          "base_uri": "https://localhost:8080/"
        },
        "id": "oNJgB9VS92UO",
        "outputId": "d1e814c0-e606-4802-cbb1-4efd4b430cf1"
      },
      "execution_count": null,
      "outputs": [
        {
          "output_type": "stream",
          "name": "stdout",
          "text": [
            "Columnas del OneHotEncoder: [array([0, 1, 2, 3, 4, 5, 6, 7, 8, 9], dtype=uint8)]\n",
            "[[0. 0. 0. ... 0. 0. 1.]\n",
            " [1. 0. 0. ... 0. 0. 0.]\n",
            " [1. 0. 0. ... 0. 0. 0.]\n",
            " ...\n",
            " [0. 0. 0. ... 0. 0. 0.]\n",
            " [1. 0. 0. ... 0. 0. 0.]\n",
            " [0. 0. 0. ... 0. 0. 0.]]\n"
          ]
        },
        {
          "output_type": "stream",
          "name": "stderr",
          "text": [
            "/usr/local/lib/python3.10/dist-packages/sklearn/preprocessing/_encoders.py:868: FutureWarning: `sparse` was renamed to `sparse_output` in version 1.2 and will be removed in 1.4. `sparse_output` is ignored unless you leave `sparse` to its default value.\n",
            "  warnings.warn(\n"
          ]
        }
      ]
    },
    {
      "cell_type": "markdown",
      "source": [
        "#Entrenamiento del modelo\n",
        "Vamos a usar redes neuronales (yay!) para crear al clasificador.\n",
        "Para ello debemos elegir la cantidad de neuronas, la cantidad de capas, y la funcion de costo a optimizar."
      ],
      "metadata": {
        "id": "EdX1N8gAAXjb"
      }
    },
    {
      "cell_type": "markdown",
      "source": [
        "#El perceptron\n",
        "But first, repasemos que son y como aprenden las redes neuronales, de la mano de nuestro amigo Michael Nielsen:\n",
        "\n",
        "Una neurona es algo que puede guardar un numero. Hay diferentes tipos de neuronas.\n",
        "\n",
        "Inputs neurons: Son, por ejemplo, los pixels de una imagen, que varian en intensidad segun estan prendidos o apagados. Es la informacion con la que vamos a alimentar nuestra red neuronal. Son las neuronas mas rudimentarias que hay, no tienen reglas, solo reciben informacion que luego pasan a neuronas mas especializadas. Son como los sentidos de nuestra red neuronal.\n",
        "En nuestro caso, son cada uno de los 28x28 = 784 pixels, items de nuestras matrices que representan imagenes.\n",
        "\n",
        "Perceptron: Es un objeto matematico que esta prendido o apagado, just like a bit. Esta neurona recibe informacion (generalmente de las inputs neurons) y, segun la fortaleza de sus conexiones a las diferentes inputs neurons, puede prenderse o apagarse. Para encender el perceptron, se debe superar cierto treshold. Es una funcion partida, del estilo:\n",
        "$\\[\\left\\{\n",
        "\\begin{array}{ll}\n",
        "      0 & \\sum w*x < b \\\\\n",
        "      1 & \\sum w*x \\geq b \\\\\n",
        "\\end{array}\n",
        "\\right. \\]$\n",
        "Donde b es el treshold a superar, w son los weights asociados a las inputs neurons. Es una step function. Da un salto de un momento a otro.\n",
        "\n",
        "Cada perceptron esta conectado a todas y cada una de las neuronas de la input layer (o de la layer previa), por lo que vamos a tener 784 weights por cada percepron, ademas del threshold. Es decir, vamos a tener, en la layer de perceptrones, una matriz de weights de 10x784, pues tenemos 10 perceptrones.\n",
        "\n",
        "Notemos que mientras mas fuerte el weight asociado a una input neuron, mas probable es que el perceptron se encienda en el caso de que las inputs neurons detecten una fuerte intensidad en el pixel asociado a ese weight.\n",
        "\n",
        "Otra forma de expresar la piecewise function del perceptron es:\n",
        "$\\[\\left\\{\n",
        "\\begin{array}{ll}\n",
        "      0 & \\sum w*x  - b < 0 \\\\\n",
        "      1 & \\sum w*x - b \\geq 0 \\\\\n",
        "\\end{array}\n",
        "\\right. \\]$"
      ],
      "metadata": {
        "id": "Ag_NBfEWOUBL"
      }
    },
    {
      "cell_type": "markdown",
      "source": [
        "#La neurona sigmoidea\n",
        "Hay otra forma de activar un perceptron, y ese cambio hace que se llame de otra forma incluso: una neurona sigmoidea.\n",
        "La idea es 'suavizar' a la step function, haciendo que valores intermedios sean posibles en la neurona, no solo 0s y 1s. Asi, la neurona no va a estar activada o no activada, sino que va a estar activada con ciertos grados de intensidad.\n",
        "\n",
        "Lo que hacemos es aplicar la funcion logistica a la sumatoria de los weights vs el bias:\n",
        "\n",
        "$\\sigma(\\sum w*x - b)$\n",
        "\n",
        "Donde $\\sigma$ es la funcion logistica.\n",
        "De este modo, el valor del perceptron ya no es 0 o 1, sino que puede tomar todos los valores intermedios entre 0 y 1, que es la imagen de la funcion logistica, y su dominio comprende todos los reales, por lo que podemos llegar con los weights mas positivos o mas negativos del mundo, y nos vamos a acercar asintoticamente al 0 o al 1, pero nunca superarlos.\n",
        "\n",
        "Notemos que podemos lograr el mismo comportamiento que en el perceptron si ponemos un threshold al grado de intensidad que se debe superar para que la neurona se active.\n",
        "\n"
      ],
      "metadata": {
        "id": "HgA17ycwtuoS"
      }
    },
    {
      "cell_type": "markdown",
      "source": [
        "#Descenso por gradiente\n",
        "Todo esta muy bien profesor Feinmann, pero... ¿Como aprenden las neuronas?\n",
        "\n",
        "El hecho de que la neurona sigmoidea ahora sea suave (no como antes, cuando era una step function) nos permite pensar en las derivadas de la funcion, que siendo la funcion logistica la que esta en juego, tiene exponenciales y las hace agradables de derivar. Ahora podemos pensar en como pequeños cambios a los weights van a tener pequeños cambios en la neurona sigmoidea, cuando antes, con el perceptron, esos pequeños cambios a los weights podian generar abruptos cambios en los perceptrones, que pasaban de 0 a 1, o de 1 a 0, y asi.\n",
        "\n",
        "Es decir, podemos derivar con respecto a los weights, incluso con respecto a los biases. Todos estos son argumentos de la funcion.\n",
        "\n",
        "De hecho, el calculo nos dice que un pequeño cambio $\\nabla output$ en el resultado de la neurona sigmoidea viene dado por:\n",
        "\n",
        "$\\nabla output ≈ ∑_j\\frac{\\partial output}{\\partial w_j}\\nabla w_j + \\frac{\\partial output}{\\partial b}\\nabla b$\n",
        "\n",
        "Es decir, un pequeño cambio en un perceptron dado viene dado por la tasa de cambio de la funcion output (que es la sigmoidea compuesta con la suma de weights * inputs + bias) con respecto a un weight dado, multiplicado por un pequeño valor de weight, mas la tasa de cambio de la funcion output con respecto al bias, multiplicado por un pequeño valor del bias.\n",
        "\n",
        "Esto tiene sentido porque a mayor valor de tasa de cambio para un weight dado, al multiplicar por un pequeño valor de weight, mas grande sera el cambio producido en el output. Lo mismo con el bias.\n",
        "\n",
        "OBSERVEMOS que $\\nabla output$ es una FUNCION LINEAL, lo que hace facil cambiar tunear los valores de wieghts and biases para producir el cambio en el output deseado."
      ],
      "metadata": {
        "id": "6D-p822dveq7"
      }
    },
    {
      "cell_type": "markdown",
      "source": [
        "#La arquitectura de una red neuronal\n",
        "Una red neuronal consta de input layers, que son como los sentidos de la red neuronal, que reciben informacion del exterior, y luego las hidden layers, que son las neuronas sigmoideas que van a tener sus weights and biases asociados, y que pueden recibir info de las neuronas inputs como de otras neuronas sigmoideas, incrementando asi la abstraccion de la tarea que estan realizando, pues no reciben pixels como inputs, sino el output de otras neuronas sigmoideas.\n",
        "\n",
        "Esto aumenta la complejidad de la red, y nos hace practicamente imposible entender cual es el sentido de tunear los weights and biases como eventualmente la computadora lo va a hacer, pero que funciona funciona, solo que no entendemos por que funciona.\n",
        "\n",
        "Si se tratara de una sola hidden layer, podemos entender el sentido a tunear los weights and biases segun ciertas reglas. Por ejemplo, es probable que la neurona que esta encargada de identificar pantalones asigne weights muy positivos a los pixeles que conforman los pies, y weights negativos a los pixeles que conforman el espacio entre los pies, cosa de que si aparecen pixeles ahi, la suma de weights baje drasticamente y no pueda vencer al bias, y de ese modo la neurona de pantalones no se active.\n",
        "\n",
        "De hecho, podemos ver esto por nuestra propia cuenta si entrenamos la red con tan solo una hidden layer:"
      ],
      "metadata": {
        "id": "fQmj89N42kli"
      }
    },
    {
      "cell_type": "code",
      "source": [
        "from keras.models import Sequential, load_model\n",
        "from keras.layers.core import Dense, Dropout, Activation\n",
        "\n",
        "# Definimos el modelo secuencial (primero esta vacio)\n",
        "model_simple = Sequential()\n",
        "\n",
        "# Agregamos una capa de 10 perceptrones con activación logística (softmax)\n",
        "model_simple.add(Dense(10,activation='softmax'))\n",
        "\n",
        "# la función Dense() crea una capa de 10 nodos (perceptrones) que está fully connected, es decir que todas las entradas obtienen un peso para todos los nodos\n",
        "# por lo que la cantidad de pesos en este caso sería 784x10 (784 pesos, uno por cada entrada del vector input para cada uno de los perceptrones)\n",
        "\n",
        "#la funcion a optimizar sera la categorical cross entropy. Queremos arreglar los outputs de forma tal que esta funcion tenga un minimo local,\n",
        "#y la forma de arreglar esos outputs es arreglando a su vez los weights and biases.\n",
        "model_simple.compile(loss='categorical_crossentropy', metrics=['categorical_accuracy'], optimizer='adam')\n",
        "\n",
        "#entrenamos la red\n",
        "history = model_simple.fit(X_train, Y_train,\n",
        "          batch_size=32, epochs=10, # 10 epocas de entrenamiento de 32 ejemplos cada una\n",
        "          verbose=1, # para que nos vaya indicando por qué instancia de entrenamiento va\n",
        "          validation_data=(X_test, Y_test)) # es análogo al .fit() de las regresiones que vimos en otras clases\n",
        "\n",
        "#podemos ver uno de los vectores con los weights de una neurona sigmoidea\n",
        "weigths = model_simple.get_weights()[0] # accedo a la matriz de pesos W de cada perceptrón\n",
        "print(weigths.shape)\n",
        "\n",
        "#podemos visualizar los weights segun la importancia que le dan a cada pixel para poder clasificar correctamente la ropa\n",
        "plt.figure(figsize = (15,8)) # seteo el tamaño de la figura\n",
        "for i in range(10): # i va desde 0 a 9 (range(10) es un vector que empieza en 0 y termina en 10-1=9 con steps de 1)\n",
        "    plt.subplot(3,5,i+1) # hago subplots en 2 filas y 5 columnas\n",
        "    w0 = weigths[:,i] # accedo a la matriz de pesos del perceptrón i-ésimo correspondiente a la clase i-ésima\n",
        "    plt.title(categories[i]) # imprimo la categoría i-ésima correspondiente al i-ésimo perceptrón\n",
        "    plt.imshow(w0.reshape(28,28)) # reshapeo el vector de pesos i-ésimo (784,) a (28,28) para recuperar el formato de las imágenes\n",
        "    plt.axis('off')\n",
        "plt.tight_layout()\n",
        "cax = plt.axes([1, 0.35, 0.025, 0.6])\n",
        "plt.colorbar(cax=cax)\n",
        "plt.show()\n",
        "plt.show()"
      ],
      "metadata": {
        "colab": {
          "base_uri": "https://localhost:8080/",
          "height": 910
        },
        "id": "wq4BQjZr4t3M",
        "outputId": "b6ee7e2f-abcf-4281-9724-c00d48d1aa6c"
      },
      "execution_count": null,
      "outputs": [
        {
          "output_type": "stream",
          "name": "stdout",
          "text": [
            "Epoch 1/10\n",
            "1875/1875 [==============================] - 13s 6ms/step - loss: 16.9410 - categorical_accuracy: 0.7470 - val_loss: 14.8680 - val_categorical_accuracy: 0.7579\n",
            "Epoch 2/10\n",
            "1875/1875 [==============================] - 8s 4ms/step - loss: 12.2399 - categorical_accuracy: 0.7903 - val_loss: 13.9897 - val_categorical_accuracy: 0.7519\n",
            "Epoch 3/10\n",
            "1875/1875 [==============================] - 4s 2ms/step - loss: 10.8719 - categorical_accuracy: 0.7960 - val_loss: 13.0995 - val_categorical_accuracy: 0.7669\n",
            "Epoch 4/10\n",
            "1875/1875 [==============================] - 4s 2ms/step - loss: 11.0638 - categorical_accuracy: 0.7972 - val_loss: 17.8864 - val_categorical_accuracy: 0.7504\n",
            "Epoch 5/10\n",
            "1875/1875 [==============================] - 4s 2ms/step - loss: 11.2627 - categorical_accuracy: 0.8008 - val_loss: 14.3909 - val_categorical_accuracy: 0.7653\n",
            "Epoch 6/10\n",
            "1875/1875 [==============================] - 5s 2ms/step - loss: 10.5052 - categorical_accuracy: 0.8054 - val_loss: 15.4490 - val_categorical_accuracy: 0.7552\n",
            "Epoch 7/10\n",
            "1875/1875 [==============================] - 4s 2ms/step - loss: 10.1964 - categorical_accuracy: 0.8055 - val_loss: 11.2500 - val_categorical_accuracy: 0.7986\n",
            "Epoch 8/10\n",
            "1875/1875 [==============================] - 4s 2ms/step - loss: 9.8736 - categorical_accuracy: 0.8085 - val_loss: 11.0324 - val_categorical_accuracy: 0.7962\n",
            "Epoch 9/10\n",
            "1875/1875 [==============================] - 4s 2ms/step - loss: 9.8775 - categorical_accuracy: 0.8069 - val_loss: 18.1784 - val_categorical_accuracy: 0.7447\n",
            "Epoch 10/10\n",
            "1875/1875 [==============================] - 4s 2ms/step - loss: 10.4548 - categorical_accuracy: 0.8062 - val_loss: 14.5765 - val_categorical_accuracy: 0.7731\n",
            "(784, 10)\n"
          ]
        },
        {
          "output_type": "display_data",
          "data": {
            "text/plain": [
              "<Figure size 1500x800 with 11 Axes>"
            ],
            "image/png": "[encoded data removed]"
          },
          "metadata": {}
        }
      ]
    },
    {
      "cell_type": "markdown",
      "source": [
        "Vemos que efectivamente los weights son mas fuertes donde uno esperaria que lo fueran para poder reconocer los distintos tipos de prendas, segun la tarea de la neurona sigmoidea especifica."
      ],
      "metadata": {
        "id": "ApSVfiRbXSvn"
      }
    },
    {
      "cell_type": "markdown",
      "source": [
        "#La Cost function\n",
        "¿Como ajustamos acordemente los weights and biases para obtener los outputs deseados?\n",
        "Debemos tener una guia, una funcion, que nos diga cuando los weight and biases estan haciendo un buen trabajo clasificando la ropa, y cuando no.\n",
        "Esta funcion es la cost function.\n",
        "\n",
        "En el ejemplo anterior usamos una cost function que involucra un logaritmo, pero para empezar podemos pensar en una aun más simple, que funciona igual de bien: El error cuadratico.\n",
        "\n",
        "Lo que hacemos es tomar las predicciones de nuestro output y compararla con la prediccion correcta. Es decir, necesitamos de tags, es aprendizaje supervisado.\n",
        "\n",
        "De la resta entre lo que predijimos y el valor real, le calculamos la norma, y obtenemos una 'distancia' entre lo que deberia ser y lo que es. Luego, tratamos de minimizar esa funcion, para que nuestras predicciones se parezcan lo mas posible a la realidad. Una vez que hayamos encontrado los weight and biases que llevan a la funcion de costo a un minimo local, habremos 'enseñado' a nuestra red neuronal a clasificar ropa. Habremos tuneado los weight and biases de manera tal que puede tener exito en clasificar ejemplos que nunca vio, pues aprendio las reglas para clasificar en base a la experiencia que gano en el training, cuando fuimos buscando el minimo de la cost function, aplicando los cambios pertinentes a los weight and biases.\n",
        "\n",
        "$C(w, b)=\\frac{1}{n}\\sum_x \\frac{\\| y(x) - a \\|^2}{2}$\n",
        "\n",
        "Donde n es el numero de training inputs, x es el training input en cuestion (que va a arrojar una prediccion al pasar por y(x)), y a es el resultado esperado. Dividimos por 2 para obtener el promedio de la 'medida' que arroja el calculo de la norma de la resta al cuadrado.\n",
        "\n",
        "Mientras mas se parezca y(x) con a, mas pequeño sera el valor de la cost function. Habremos encontrado los w, b que minimizan a la cost function.\n",
        "\n",
        "Debemos recordar que y(x) depende no solo del training input x, sino tambien de w y b, pues segun se ajusten dichos parametros, cambiarán las predicciones de nuestra red, asi que en realidad es $y(x, w, b)$."
      ],
      "metadata": {
        "id": "n3aWjasuY9Rd"
      }
    },
    {
      "cell_type": "markdown",
      "source": [
        "#Volviendo al descenso por gradiente, pero con approach puramente matematico\n",
        "Como nuestro objetivo es minimizar una funcion, vamos a olvidarnos por un momento de la complejidad de las redes neuronales, y vamos a enfocarnos en minimizar una funcion cualquiera de solo dos variables.\n",
        "\n",
        "Digamos que la funcion es cuestion tiene las variables $x_1$ y $x_2$, entonces es $C(x_1, x_2)$.\n",
        "\n",
        "El calculo nos dice que un pequeño cambio en la funcion $C$ viene dado por:"
      ],
      "metadata": {
        "id": "PkTzzgmjc4NV"
      }
    },
    {
      "cell_type": "markdown",
      "source": [
        "$\\triangle C ≈ \\frac{\\partial C}{\\partial x_1}\\triangle x_1 + \\frac{\\partial C}{\\partial x_2}\\triangle x_2$"
      ],
      "metadata": {
        "id": "7adZ67rkxNB6"
      }
    },
    {
      "cell_type": "markdown",
      "source": [
        "Vamos a buscar una manera de elegir $\\triangle x_1$ y $\\triangle x_2$ de manera tal que $\\triangle C$ sea negativo, es decir, que:\n",
        "$\\triangle C = C_f - C_i < 0 \\Rightarrow C_f < C_i$, es decir, nos movimos hacia un valor *menor* al que estabamos previamente."
      ],
      "metadata": {
        "id": "n-5cocrYxzCT"
      }
    },
    {
      "cell_type": "markdown",
      "source": [
        "Para ayudar a ver como lograr esto, es buena idea definir el vector de los cambios en $x_1$ y $x_2$:\n",
        "$\\triangle x =(\\triangle x_1, \\triangle x_2)^T$"
      ],
      "metadata": {
        "id": "cUVYTald0CVj"
      }
    },
    {
      "cell_type": "markdown",
      "source": [
        "Definimos tambien el gradiente de $C$, que es el vector con las derivadas parciales de $C$ con respecto a $x_1$ y $x_2$:"
      ],
      "metadata": {
        "id": "gHGIa0SF0qU8"
      }
    },
    {
      "cell_type": "markdown",
      "source": [
        "$\\nabla C = (\\frac{\\partial C}{\\partial x_1}, \\frac{\\partial C}{\\partial x_2})^T$"
      ],
      "metadata": {
        "id": "IigIRvpGYuq2"
      }
    },
    {
      "cell_type": "markdown",
      "source": [
        "Podemos escribir entonces a los cambios en $C$ como:"
      ],
      "metadata": {
        "id": "DomIDU3WY6Cb"
      }
    },
    {
      "cell_type": "markdown",
      "source": [
        "$\\triangle C ≈ \\nabla C \\cdot \\triangle x$"
      ],
      "metadata": {
        "id": "xxoiNyf-qKUl"
      }
    },
    {
      "cell_type": "markdown",
      "source": [
        "Como queremos que esto nos de siempre negativo (para avanzar en la direccion contraria del gradiente), seteamos:"
      ],
      "metadata": {
        "id": "8pR9CN1D0foO"
      }
    },
    {
      "cell_type": "markdown",
      "source": [
        "$\\triangle x = -\\mu \\nabla C$"
      ],
      "metadata": {
        "id": "pm8I7ik10l_M"
      }
    },
    {
      "cell_type": "markdown",
      "source": [
        "De modo que ocurre"
      ],
      "metadata": {
        "id": "SnygKP_f09JB"
      }
    },
    {
      "cell_type": "markdown",
      "source": [
        "$\\triangle C ≈ \\nabla C \\cdot (-\\mu \\nabla C) = -\\mu \\nabla C^2$"
      ],
      "metadata": {
        "id": "t5psYcII0_dr"
      }
    },
    {
      "cell_type": "markdown",
      "source": [
        "y siempre obtendremos que el nuevo valor de C sera mas pequeño que el viejo.\n",
        "Tenemos entonces que el nuevo valor de v debera ser"
      ],
      "metadata": {
        "id": "CDQ3poug1qCj"
      }
    },
    {
      "cell_type": "markdown",
      "source": [
        "$\\triangle x = x_f - x_i = -\\mu \\nabla C \\Rightarrow x_f = x_i - \\mu \\nabla C$"
      ],
      "metadata": {
        "id": "cOepeTcj14yf"
      }
    },
    {
      "cell_type": "markdown",
      "source": [
        "Es decir, si $x_i = (x_{i1}, x_{i2})$ es el punto en el plano donde estamos evaluando a la cost function, si ahora lo pensamos como un vector en el plano y le sumamos puntita con colita al vector $-\\mu \\nabla C$, vamos a caer en un nuevo punto/vector $x_f = (x_{f1}, x_{f2})$ que si evaluamos alli la funcion C, el resultado sera un valor mas pequeño que el que teniamos previamente para el punto/vector $x_i$."
      ],
      "metadata": {
        "id": "fnG70Md83Ax-"
      }
    },
    {
      "cell_type": "markdown",
      "source": [
        "Una vez que se movio a esta nueva posicion en $x_f$, calculamos nuevamente el gradiente en el punto y volvemos a aplicar la regla de update $x_f = x_i - \\mu \\nabla C$, donde ahora el $x_i$ es el $x_f$ del paso anterior, y el nuevo $x_f$ sera un punto donde al calcular C obtendremos un valor menor al que teniamos previamente (y al que teniamos previo a eso, por transitividad)."
      ],
      "metadata": {
        "id": "Ap6vYKIk5FZR"
      }
    },
    {
      "cell_type": "markdown",
      "source": [
        "Una vez que nos movimos lo suficiente siguiendo la direccion que nos va indicando los sucesivos calculos del gradiente, podemos llegar a un minimo local. Si asi fuera, diremos que el algoritmo encontro los weights and biases tales que minimizan la cost function, es decir, que producen la menor diferencia entre los resultados predichos y los resultados reales.\n",
        "Son la mejor forma de ajustar dichas variables para que la red funcione correctamente."
      ],
      "metadata": {
        "id": "FxKCQ40U58QU"
      }
    },
    {
      "cell_type": "markdown",
      "source": [
        "#Volviendo a la red neuronal, con los insights ganados en la matematica"
      ],
      "metadata": {
        "id": "-2ZAeACs762R"
      }
    },
    {
      "cell_type": "markdown",
      "source": [
        "Dejando de lado las variables matematicas que introducimos, volvemos a las variables de las redes neuronales:"
      ],
      "metadata": {
        "id": "Hfzn0_9O7_eT"
      }
    },
    {
      "cell_type": "markdown",
      "source": [
        "$w_k → w_k' = w_k - \\mu \\frac{\\partial C}{\\partial w_k} \\\\ b_l → b_l' = b_l - \\mu \\frac{\\partial C}{\\partial b_l} $\n"
      ],
      "metadata": {
        "id": "e1EmlxDd9bMO"
      }
    },
    {
      "cell_type": "markdown",
      "source": [
        "Recordemos que calculabamos la cost function como $C(w, b)=\\frac{1}{n}\\sum_x \\frac{\\| y(x) - a \\|^2}{2}$, como un promedio de las 'distancias' entre el valor predicho por nuestra red y el valor esperado.\n",
        "El problema con esta cost function es que, cuando la cantidad de training inputs $x$ es muy grande, el calculo tarda demasiado en la practica.\n",
        "Lo que se hace es aplicar una idea llamada Descenso de gradiente estocástico, que se basa en no dar el paso óptimo cada vez, el que más disminuye la cost function, sino dar un paso en la dirección correcta, lo suficientemente bueno para asegurarnos que el valor de la cost function disminuirá.\n",
        "Sacrificamos precision por tiempo, el tiempo es el recurso mas valioso.\n"
      ],
      "metadata": {
        "id": "rpphct_xt2j_"
      }
    },
    {
      "cell_type": "markdown",
      "source": [
        "#Descenso de gradiente estocástico\n",
        "La idea es entrenar la red no con todos y cada uno de los training inputs $x$, sino seleccionar algunas muestras de toda la población, y entrenar a la red con dichas muestras, confiando en que las demás se van a comportar de manera similar a como lo hace la muestra. Much like when census happens.\n",
        "Lo que decimos es:"
      ],
      "metadata": {
        "id": "RV7Qki2pyHHF"
      }
    },
    {
      "cell_type": "markdown",
      "source": [
        "$\\frac{\\sum_{j=1}^m \\nabla C_{X_j}}{m} ≈ \\frac{\\sum_x \\nabla C_x}{n} = \\nabla C$"
      ],
      "metadata": {
        "id": "BrIC_kJeyp4N"
      }
    },
    {
      "cell_type": "markdown",
      "source": [
        "Donde m abarca lo que se conoce como un mini-batch, es decir, no vamos hasta todo el batch con los n training inputs, sino que nos limitamos a m entrenamientos.\n",
        "El calculo de los nuevos sets de weights and biases que minimizan la cost function con este approach es:"
      ],
      "metadata": {
        "id": "bTeMncIn0CQ9"
      }
    },
    {
      "cell_type": "markdown",
      "source": [
        "$w_k → w_k' = w_k - \\frac{\\mu}{m} \\sum_j \\frac{\\partial C_{X_j}}{\\partial w_k} \\\\ b_l → b_l' = b_l - \\frac{\\mu}{m} \\sum_j \\frac{\\partial C_{X_j}}{\\partial b_l} $\n"
      ],
      "metadata": {
        "id": "xVvmftyg0dvt"
      }
    },
    {
      "cell_type": "markdown",
      "source": [
        "Donde $X_j$ es uno de los m training inputs en el minibatch. Al ir por todos y cada uno de los m entrenamientos, se dice que se ha completado una época de entrenamiento. En ese punto, empezamos con una nueva época de entrenamiento."
      ],
      "metadata": {
        "id": "RqIDh-c_1i93"
      }
    },
    {
      "cell_type": "markdown",
      "source": [
        "En cuanto a $\\frac{\\mu}{m}$, esto se conoce como el factor de aprendizaje, pues influye en que tan grande o pequeño demos el paso en la direccion indicada por el promedio de las derivadas. Hay muchas convenciones sobre cómo debería calcularse, y es otro de los factores a ajustar al entrenar nuestra red neuronal."
      ],
      "metadata": {
        "id": "U0FHqzy22fRu"
      }
    },
    {
      "cell_type": "markdown",
      "source": [
        "#Probando la red neuronal"
      ],
      "metadata": {
        "id": "Ez5uwgLMovha"
      }
    },
    {
      "cell_type": "markdown",
      "source": [
        "Ponemos a trabajar a la red neuronal ya entrenada para que clasifique ropa que nunca vio:"
      ],
      "metadata": {
        "id": "ntiBW4WxoyIs"
      }
    },
    {
      "cell_type": "code",
      "source": [
        "import sklearn.metrics as metrics\n",
        "# Usamos el modelo para predecir sobre todas las instancias en ambos sets\n",
        "y_train_pred = model_simple.predict(X_train)\n",
        "y_test_pred = model_simple.predict(X_test)\n",
        "\n",
        "# Tomamos como clase predicha aquella con mayor probabilidad\n",
        "train_accuracy =  metrics.accuracy_score(y_train_pred.argmax(axis=1),y_train)\n",
        "# y_train_pred.argmax(axis=1) es un vector de longitud igual a la longitud de y_train_pred\n",
        "# pero que en cada elemento tiene el número de clase con mayor probabilidad en vez de un vector con las 10 probabilidades\n",
        "test_accuracy =  metrics.accuracy_score(y_test_pred.argmax(axis=1), y_test)\n",
        "\n",
        "print('Accuracy en el train set:', train_accuracy)\n",
        "print('Accuracy en el test set:', test_accuracy)"
      ],
      "metadata": {
        "colab": {
          "base_uri": "https://localhost:8080/"
        },
        "id": "K1yA5abho4nq",
        "outputId": "5336d2fc-5753-4e14-f830-16d9d6284486"
      },
      "execution_count": null,
      "outputs": [
        {
          "output_type": "stream",
          "name": "stdout",
          "text": [
            "1875/1875 [==============================] - 3s 1ms/step\n",
            "313/313 [==============================] - 0s 1ms/step\n",
            "Accuracy en el train set: 0.7966666666666666\n",
            "Accuracy en el test set: 0.7731\n"
          ]
        }
      ]
    },
    {
      "cell_type": "markdown",
      "source": [
        "Vemos que tiene un buen porcentaje de exito tanto en el dataset de entrenamiento como en el de testing."
      ],
      "metadata": {
        "id": "hW9kk9DgrVLo"
      }
    },
    {
      "cell_type": "markdown",
      "source": [
        "Podemos tambien mirar la matriz de confusion"
      ],
      "metadata": {
        "id": "T9mrl_EBpzx_"
      }
    },
    {
      "cell_type": "code",
      "source": [
        "from sklearn.metrics import confusion_matrix\n",
        "\n",
        "print (\"Matriz de confusion\")\n",
        "print(confusion_matrix(y_test, y_test_pred.argmax(axis=1)))"
      ],
      "metadata": {
        "colab": {
          "base_uri": "https://localhost:8080/"
        },
        "id": "0_uol0Ygp4k_",
        "outputId": "0b5382c3-2d98-4382-feed-1a29a3781a9d"
      },
      "execution_count": null,
      "outputs": [
        {
          "output_type": "stream",
          "name": "stdout",
          "text": [
            "Matriz de confusion\n",
            "[[781  13  10 128  14   4  46   0   4   0]\n",
            " [  2 964   0  26   5   0   2   1   0   0]\n",
            " [ 19  19 502  42 395   1  21   0   1   0]\n",
            " [ 22  29   9 892  39   0   7   1   0   1]\n",
            " [  0   8  24  57 899   0  12   0   0   0]\n",
            " [  0   0   0   2   0 928   0  34   1  35]\n",
            " [155   3  80 147 384   0 230   0   1   0]\n",
            " [  0   0   0   0   0  80   0 887   0  33]\n",
            " [ 21   2   6  57  58  41  87   9 715   4]\n",
            " [  0   1   0   0   0  17   1  48   0 933]]\n"
          ]
        }
      ]
    },
    {
      "cell_type": "markdown",
      "source": [
        "Podemos incluso mirar un ejemplo en particular, por ejemplo podemos pedirle que clasifique el primer elemento del test dataset, y compararlo con la etiqueta que deberia tener"
      ],
      "metadata": {
        "id": "6dSeN94UqSNe"
      }
    },
    {
      "cell_type": "code",
      "source": [
        "salida = model_simple.predict(X_test[0:1]) # análogo al .predict_proba() que de sklearn\n",
        "\n",
        "print('Shape de la salida:',salida.shape)\n",
        "print('Salida:',salida)\n",
        "\n",
        "ertiqueta_prediccion = categories[salida[0].argmax()] # me quedo con el índice que tiene el elemento de máximo valor\n",
        "etiquta_real = categories[y_test[0]] # me fijo cuál era la etiqueta real\n",
        "\n",
        "print('Clase asignada por la red:', ertiqueta_prediccion)\n",
        "print('Clase real:', etiquta_real)"
      ],
      "metadata": {
        "colab": {
          "base_uri": "https://localhost:8080/"
        },
        "id": "rSR5EdxkqhFE",
        "outputId": "28499a71-bbbb-42b1-9053-94f8595ec591"
      },
      "execution_count": null,
      "outputs": [
        {
          "output_type": "stream",
          "name": "stdout",
          "text": [
            "1/1 [==============================] - 0s 23ms/step\n",
            "Shape de la salida: (1, 10)\n",
            "Salida: [[0. 0. 0. 0. 0. 0. 0. 0. 0. 1.]]\n",
            "Clase asignada por la red: Ankle boot\n",
            "Clase real: Ankle boot\n"
          ]
        }
      ]
    },
    {
      "cell_type": "markdown",
      "source": [
        "El vector de salida es un vector con las probabilidades de que el ejemplo pertenezca a una clase u otra. Vemos que la red esta 100% convencida de que es una bota, y esta en lo correcto."
      ],
      "metadata": {
        "id": "aBSwFIeJrAYx"
      }
    }
  ]
}